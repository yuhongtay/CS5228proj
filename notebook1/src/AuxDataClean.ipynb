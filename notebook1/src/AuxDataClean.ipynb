{
  "cells": [
    {
      "cell_type": "code",
      "execution_count": 1,
      "metadata": {
        "id": "kMCh2UTGt04S"
      },
      "outputs": [],
      "source": [
        "# Imports\n",
        "import pandas as pd\n",
        "import numpy as np\n",
        "from sklearn.preprocessing import MinMaxScaler\n",
        "from sklearn.neighbors import KNeighborsRegressor\n",
        "from sklearn.linear_model import Ridge\n",
        "from sklearn.tree import DecisionTreeRegressor\n",
        "from sklearn.metrics import mean_squared_error\n",
        "from sklearn.model_selection import train_test_split\n",
        "import matplotlib.pyplot as plt\n",
        "import seaborn as sns"
      ]
    },
    {
      "cell_type": "code",
      "execution_count": 2,
      "metadata": {},
      "outputs": [],
      "source": [
        "import pyproj\n",
        "from math import fabs\n",
        "\n",
        "# 1. Define the Coordinate Systems (CRSs)\n",
        "# EPSG:4326 is the standard WGS84 for Lat/Long (used by GPS, Google Maps)\n",
        "# EPSG:3414 is the SVY21 / Singapore TM (Easting/Northing in meters)\n",
        "WGS84 = \"EPSG:4326\"\n",
        "SVY21 = \"EPSG:3414\"\n",
        "\n",
        "# Create a Transformer object to handle the conversion from WGS84 to SVY21\n",
        "transformer = pyproj.Transformer.from_crs(WGS84, SVY21, always_xy=True)\n",
        "\n",
        "def calculate_manhattan_distance_svy21(lat1: float, lon1: float, lat2: float, lon2: float) -> float:\n",
        "    \"\"\"\n",
        "    Calculates the Manhattan (L1) distance between two WGS84 points\n",
        "    by first projecting them into the planar SVY21 coordinate system (meters).\n",
        "\n",
        "    Args:\n",
        "        lat1, lon1: Latitude and Longitude of Point 1.\n",
        "        lat2, lon2: Latitude and Longitude of Point 2.\n",
        "\n",
        "    Returns:\n",
        "        The Manhattan distance in meters.\n",
        "    \"\"\"\n",
        "    \n",
        "    # 2. Convert WGS84 (Lat/Lon) to SVY21 (Easting/Northing)\n",
        "    # pyproj's 'always_xy=True' means it expects (Longitude, Latitude) order for WGS84\n",
        "    # and returns (Easting, Northing) for SVY21.\n",
        "    \n",
        "    # Point 1: Property Location\n",
        "    E1, N1 = transformer.transform(lon1, lat1)\n",
        "    \n",
        "    # Point 2: MRT Station Location\n",
        "    E2, N2 = transformer.transform(lon2, lat2)\n",
        "    \n",
        "    # 3. Calculate Manhattan Distance (L1 Norm)\n",
        "    # d = |E2 - E1| + |N2 - N1|\n",
        "    delta_E = fabs(E2 - E1) # Absolute difference in Easting (X-axis)\n",
        "    delta_N = fabs(N2 - N1) # Absolute difference in Northing (Y-axis)\n",
        "    \n",
        "    manhattan_dist_m = delta_E + delta_N\n",
        "    \n",
        "    return manhattan_dist_m"
      ]
    },
    {
      "cell_type": "code",
      "execution_count": 3,
      "metadata": {},
      "outputs": [],
      "source": [
        "train_df = pd.read_csv('../data/train.csv')\n",
        "# for consistency, change text of interest to lowercase in train_df\n",
        "# change all column names to lowercase\n",
        "train_df.columns = [col.lower() for col in train_df.columns]\n",
        "# change train_df column 'town' to lowercase\n",
        "train_df['town'] = train_df['town'].str.lower()\n",
        "# change train_df column 'block' to lowercase\n",
        "train_df['block'] = train_df['block'].str.lower()\n",
        "# change train_df column 'street' to lowercase\n",
        "train_df['street'] = train_df['street'].str.lower()\n",
        "# drop 'eco_category' column from train_df\n",
        "train_df = train_df.drop(columns=['eco_category'])"
      ]
    },
    {
      "cell_type": "code",
      "execution_count": 4,
      "metadata": {},
      "outputs": [],
      "source": [
        "hdb_df = pd.read_csv('../data/sg-hdb-block-details.csv')\n",
        "# for consistency, change text of interest to lowercase in hdb_df\n",
        "# change all column names to lowercase\n",
        "hdb_df.columns = [col.lower() for col in hdb_df.columns]\n",
        "# change hdb_df column name 'address' to 'street' for consistency with train_df\n",
        "hdb_df = hdb_df.rename(columns={'address': 'street'})\n",
        "# change hdb_df column 'town' to lowercase\n",
        "hdb_df['town'] = hdb_df['town'].str.lower()\n",
        "# change hdb_df column 'block' to lowercase\n",
        "hdb_df['block'] = hdb_df['block'].str.lower()\n",
        "# change hdb_df column 'street' to lowercase\n",
        "hdb_df['street'] = hdb_df['street'].str.lower()\n",
        "# change hdb_df column 'postal_code' to string and pad with leading zeros to ensure 6 digits\n",
        "hdb_df['postal_code'] = hdb_df['postal_code'].astype(str).str.zfill(6)\n",
        "# change hdb_df column 'region' to lowercase\n",
        "hdb_df['region'] = hdb_df['region'].str.lower()\n",
        "#match hdb_df.town with train_df.town, hdb_df.block with train_df.block, hdb_df.street with train_df.street to get hdb_df.postal_code, hdb_df.latitude, hdb_df.longitude, hdb_df.max_floor, hdb_df.region into train_df\n",
        "train_df = pd.merge(train_df, hdb_df[['town', 'block', 'street', 'postal_code', 'latitude', 'longitude', 'max_floor', 'subzone']], left_on=['town', 'block', 'street'], right_on=['town', 'block', 'street'], how='left')"
      ]
    },
    {
      "cell_type": "code",
      "execution_count": 5,
      "metadata": {},
      "outputs": [
        {
          "name": "stdout",
          "output_type": "stream",
          "text": [
            "floor_range\n",
            "01 to 03    28682\n",
            "04 to 06    37358\n",
            "07 to 09    34103\n",
            "10 to 12    30239\n",
            "13 to 15    15812\n",
            "16 to 18     7342\n",
            "19 to 21     3147\n",
            "22 to 24     2212\n",
            "25 to 27     1392\n",
            "28 to 30      887\n",
            "31 to 33      473\n",
            "34 to 36      426\n",
            "37 to 39      359\n",
            "40 to 42      158\n",
            "43 to 45       52\n",
            "46 to 48       35\n",
            "49 to 51       14\n",
            "Name: count, dtype: int64\n"
          ]
        }
      ],
      "source": [
        "# list count of floor_range values\n",
        "floor_range_counts = train_df['floor_range'].value_counts().sort_index()\n",
        "print(floor_range_counts)\n",
        "# insert new column height = ordinal value of floor_range\n",
        "# mapping of floor_range to ordinal values\n",
        "floor_range_mapping = {\n",
        "    '01 to 03': 2,\n",
        "    '04 to 06': 7,\n",
        "    '07 to 09': 8,\n",
        "    '10 to 12': 11,\n",
        "    '13 to 15': 14,\n",
        "    '16 to 18': 17,\n",
        "    '19 to 21': 20,\n",
        "    '22 to 24': 23,\n",
        "    '25 to 27': 26,\n",
        "    '28 to 30': 29,\n",
        "    '31 to 33': 32,\n",
        "    '34 to 36': 35,\n",
        "    '37 to 39': 38,\n",
        "    '40 to 42': 41,\n",
        "    '43 to 45': 44,\n",
        "    '46 to 48': 47,\n",
        "    '49 to 51': 50\n",
        "}\n",
        "train_df['height'] = train_df['floor_range'].map(floor_range_mapping)\n",
        "# drop original floor_range column\n",
        "train_df = train_df.drop(columns=['floor_range'])"
      ]
    },
    {
      "cell_type": "code",
      "execution_count": 6,
      "metadata": {},
      "outputs": [],
      "source": [
        "month_dt = pd.to_datetime(train_df['month'])\n",
        "train_df['month_from2017'] = (month_dt.dt.year - 2017) * 12 + month_dt.dt.month\n",
        "LEASE_startyr = (train_df['lease_commence_data']-2017)*12\n",
        "train_df['age_at_sale'] = train_df['month_from2017'] - LEASE_startyr\n"
      ]
    },
    {
      "cell_type": "code",
      "execution_count": 7,
      "metadata": {},
      "outputs": [],
      "source": [
        "# load hdb resale price index data\n",
        "hdb_rpi_df = pd.read_csv('../data/sg-hdb-rpi.csv')\n",
        "hdb_rpi_df.columns = [col.lower() for col in hdb_rpi_df.columns]\n",
        "hdb_rpi_df['year'] = hdb_rpi_df['year'].astype(int)\n",
        "hdb_rpi_df['q'] = hdb_rpi_df['q'].astype(int)"
      ]
    },
    {
      "cell_type": "code",
      "execution_count": 8,
      "metadata": {},
      "outputs": [],
      "source": [
        "# create columns 'year' and 'quarter' in train_df from first 4 digits and last 2 digits of 'month'\n",
        "train_df['year'] = pd.to_datetime(train_df['month'], format='%Y-%m').dt.year\n",
        "train_df['quarter'] = pd.to_datetime(train_df['month'], format='%Y-%m').dt.quarter\n",
        "# map train_df.month to HDB resale price index for that quarter\n",
        "train_df = pd.merge(train_df, hdb_rpi_df, left_on=['year', 'quarter'], right_on=['year', 'q'], how='left')\n",
        "# get latest resale price index to set as default value\n",
        "latest_rpi = hdb_rpi_df.loc[hdb_rpi_df['year'] == hdb_rpi_df['year'].max()]\n",
        "latest_rpi = latest_rpi.loc[latest_rpi['q'] == latest_rpi['q'].max()]\n",
        "default_rpi = latest_rpi['index'].values[0]\n",
        "# fill any missing values in index column with latest resale price index\n",
        "train_df['index'] = train_df['index'].fillna(default_rpi)\n",
        "# save cleaned train_df to csv\n",
        "train_df.to_csv('../data/cleaned_train.csv', index=False)\n",
        "# drop columns 'month', 'year', 'quarter', 'q' from train_df\n",
        "train_df = train_df.drop(columns=['month', 'year', 'q', 'quarter_x', 'quarter_y'])"
      ]
    },
    {
      "cell_type": "code",
      "execution_count": 9,
      "metadata": {},
      "outputs": [],
      "source": [
        "# add nearest mrt station and distance to postal code table\n",
        "# load sg-mrt-stations.csv\n",
        "mrt_df = pd.read_csv('../data/sg-mrt-stations.csv')\n",
        "mrt_df.columns = [col.lower() for col in mrt_df.columns]\n",
        "# change all name to lowercase\n",
        "mrt_df['name'] = mrt_df['name'].str.lower()\n",
        "# remove duplicate names in mrt_df, keep first occurrence\n",
        "mrt_df = mrt_df.drop_duplicates(subset=['name']).reset_index(drop=True)\n",
        "\n",
        "def find_nearest_mrt(row):\n",
        "    min_distance = float('inf')\n",
        "    nearest_station = None\n",
        "    for _, mrt_row in mrt_df.iterrows():\n",
        "        distance = calculate_manhattan_distance_svy21(row['latitude'], row['longitude'], mrt_row['latitude'], mrt_row['longitude'])\n",
        "        if distance < min_distance:\n",
        "            min_distance = distance\n",
        "            nearest_station, station_status = mrt_row['name'], mrt_row['status']\n",
        "    return pd.Series([nearest_station, min_distance, station_status])\n",
        "\n",
        "# create postal code table based on all postal codes in train_df\n",
        "postal_codes_df = train_df[['postal_code', 'longitude', 'latitude', 'subzone']].drop_duplicates().reset_index(drop=True)\n",
        "# add nearest mrt to postal_codes_df\n",
        "postal_codes_df[['nearest_mrt', 'mrt_distance', 'mrt_status']] = postal_codes_df.apply(find_nearest_mrt, axis=1)"
      ]
    },
    {
      "cell_type": "code",
      "execution_count": 10,
      "metadata": {},
      "outputs": [],
      "source": [
        "# add nearest shopping mall and distance to postal code table\n",
        "# load sg-shopping-malls.csv\n",
        "mall_df = pd.read_csv('../data/sg-shopping-malls.csv')\n",
        "mall_df.columns = [col.lower() for col in mall_df.columns]\n",
        "# change all name to lowercase\n",
        "mall_df['name'] = mall_df['name'].str.lower()\n",
        "# remove duplicate names in mall_df, keep first occurrence\n",
        "mall_df = mall_df.drop_duplicates(subset=['name']).reset_index(drop=True)\n",
        "\n",
        "def find_nearest_mall(row):\n",
        "    min_distance = float('inf')\n",
        "    nearest_mall = None\n",
        "    for _, mall_row in mall_df.iterrows():\n",
        "        distance = calculate_manhattan_distance_svy21(row['latitude'], row['longitude'], mall_row['latitude'], mall_row['longitude'])\n",
        "        if distance < min_distance:\n",
        "            min_distance = distance\n",
        "            nearest_mall = mall_row['name']\n",
        "    return pd.Series([nearest_mall, min_distance])\n",
        "\n",
        "# add nearest mall to postal_codes_df\n",
        "postal_codes_df[['nearest_mall', 'mall_distance']] = postal_codes_df.apply(find_nearest_mall, axis=1)\n"
      ]
    },
    {
      "cell_type": "code",
      "execution_count": 11,
      "metadata": {},
      "outputs": [],
      "source": [
        "# add nearest gov hawker centre and distance to postal code table\n",
        "# load sg-gov-hawkers.csv\n",
        "hawker_df = pd.read_csv('../data/sg-gov-hawkers.csv')\n",
        "hawker_df.columns = [col.lower() for col in hawker_df.columns]\n",
        "# change all name to lowercase\n",
        "hawker_df['name'] = hawker_df['name'].str.lower()\n",
        "# remove duplicate names in hawker_df, keep first occurrence\n",
        "hawker_df = hawker_df.drop_duplicates(subset=['name']).reset_index(drop=True)\n",
        "def find_nearest_hawker(row):\n",
        "    min_distance = float('inf')\n",
        "    nearest_hawker = None\n",
        "    for _, hawker_row in hawker_df.iterrows():\n",
        "        distance = calculate_manhattan_distance_svy21(row['latitude'], row['longitude'], hawker_row['latitude'], hawker_row['longitude'])\n",
        "        if distance < min_distance:\n",
        "            min_distance = distance\n",
        "            nearest_hawker = hawker_row['name']\n",
        "    return pd.Series([nearest_hawker, min_distance])\n",
        "# add nearest hawker to postal_codes_df\n",
        "postal_codes_df[['nearest_hawker', 'hawker_distance']] = postal_codes_df.apply(find_nearest_hawker, axis=1)"
      ]
    },
    {
      "cell_type": "code",
      "execution_count": 12,
      "metadata": {},
      "outputs": [],
      "source": [
        "# add nearest primary school and distance to postal code table\n",
        "# load sg-primary-schools.csv\n",
        "primary_school_df = pd.read_csv('../data/sg-primary-schools.csv')\n",
        "primary_school_df.columns = [col.lower() for col in primary_school_df.columns]\n",
        "# change all name to lowercase\n",
        "primary_school_df['name'] = primary_school_df['name'].str.lower()\n",
        "# remove duplicate names in primary_school_df, keep first occurrence\n",
        "primary_school_df = primary_school_df.drop_duplicates(subset=['name']).reset_index(drop=True)\n",
        "\n",
        "def find_nearest_primary_school(row):\n",
        "    min_distance = float('inf')\n",
        "    nearest_primary_school = None\n",
        "    for _, primary_school_row in primary_school_df.iterrows():\n",
        "        distance = calculate_manhattan_distance_svy21(row['latitude'], row['longitude'], primary_school_row['latitude'], primary_school_row['longitude'])\n",
        "        if distance < min_distance:\n",
        "            min_distance = distance\n",
        "            nearest_primary_school = primary_school_row['name']\n",
        "    return pd.Series([nearest_primary_school, min_distance])\n",
        "\n",
        "# add nearest primary school to postal_codes_df\n",
        "postal_codes_df[['nearest_primary_school', 'primary_school_distance']] = postal_codes_df.apply(find_nearest_primary_school, axis=1)\n"
      ]
    },
    {
      "cell_type": "code",
      "execution_count": 13,
      "metadata": {},
      "outputs": [],
      "source": [
        "# add nearest secondary school and distance to postal code table\n",
        "# load sg-secondary-schools.csv\n",
        "secondary_school_df = pd.read_csv('../data/sg-secondary-schools.csv')\n",
        "secondary_school_df.columns = [col.lower() for col in secondary_school_df.columns]\n",
        "# change all name to lowercase\n",
        "secondary_school_df['name'] = secondary_school_df['name'].str.lower()\n",
        "# remove duplicate names in secondary_school_df, keep first occurrence\n",
        "secondary_school_df = secondary_school_df.drop_duplicates(subset=['name']).reset_index(drop=True)\n",
        "\n",
        "def find_nearest_secondary_school(row):\n",
        "    min_distance = float('inf')\n",
        "    nearest_secondary_school = None\n",
        "    for _, secondary_school_row in secondary_school_df.iterrows():\n",
        "        distance = calculate_manhattan_distance_svy21(row['latitude'], row['longitude'], secondary_school_row['latitude'], secondary_school_row['longitude'])\n",
        "        if distance < min_distance:\n",
        "            min_distance = distance\n",
        "            nearest_secondary_school = secondary_school_row['name']\n",
        "    return pd.Series([nearest_secondary_school, min_distance])\n",
        "\n",
        "# add nearest secondary school to postal_codes_df\n",
        "postal_codes_df[['nearest_secondary_school', 'secondary_school_distance']] = postal_codes_df.apply(find_nearest_secondary_school, axis=1)\n"
      ]
    },
    {
      "cell_type": "code",
      "execution_count": 14,
      "metadata": {},
      "outputs": [
        {
          "name": "stdout",
          "output_type": "stream",
          "text": [
            "<class 'pandas.core.frame.DataFrame'>\n",
            "RangeIndex: 9631 entries, 0 to 9630\n",
            "Data columns (total 15 columns):\n",
            " #   Column                     Non-Null Count  Dtype  \n",
            "---  ------                     --------------  -----  \n",
            " 0   postal_code                9631 non-null   object \n",
            " 1   longitude                  9631 non-null   float64\n",
            " 2   latitude                   9631 non-null   float64\n",
            " 3   subzone                    9631 non-null   object \n",
            " 4   nearest_mrt                9631 non-null   object \n",
            " 5   mrt_distance               9631 non-null   float64\n",
            " 6   mrt_status                 9631 non-null   object \n",
            " 7   nearest_mall               9631 non-null   object \n",
            " 8   mall_distance              9631 non-null   float64\n",
            " 9   nearest_hawker             9631 non-null   object \n",
            " 10  hawker_distance            9631 non-null   float64\n",
            " 11  nearest_primary_school     9631 non-null   object \n",
            " 12  primary_school_distance    9631 non-null   float64\n",
            " 13  nearest_secondary_school   9631 non-null   object \n",
            " 14  secondary_school_distance  9631 non-null   float64\n",
            "dtypes: float64(7), object(8)\n",
            "memory usage: 1.1+ MB\n",
            "None\n"
          ]
        }
      ],
      "source": [
        "print(postal_codes_df.info())"
      ]
    },
    {
      "cell_type": "code",
      "execution_count": 15,
      "metadata": {},
      "outputs": [],
      "source": [
        "# add nearest mrt, mrt distance, mrt status, nearest primary school, primary school distance, nearest secondary school, secondary school distance, nearest mall, nearest mall distance, nearest hawker, nearest hawker distance to train_df\n",
        "train_df = pd.merge(train_df, postal_codes_df[['postal_code', 'nearest_mrt', 'mrt_distance', 'mrt_status', 'nearest_primary_school', 'primary_school_distance', 'nearest_secondary_school', 'secondary_school_distance', 'nearest_mall', 'mall_distance', 'nearest_hawker', 'hawker_distance']], on='postal_code', how='left')\n"
      ]
    },
    {
      "cell_type": "code",
      "execution_count": 16,
      "metadata": {},
      "outputs": [
        {
          "name": "stdout",
          "output_type": "stream",
          "text": [
            "['woodlands east' 'marymount' 'saujana' 'punggol field' 'trafalgar'\n",
            " 'clementi north' 'fajar' 'bedok north' 'yishun south' 'fernvale' 'dover'\n",
            " 'waterway east' 'bukit batok central' 'woodlands south'\n",
            " 'sengkang town centre' 'pasir ris drive' 'toa payoh central'\n",
            " 'kampong ubi' 'punggol town centre' 'matilda' 'yishun east' 'ghim moh'\n",
            " 'potong pasir' 'boon teck' 'tampines west' 'telok blangah drive'\n",
            " 'hong kah north' 'chong boon' 'sembawang east' 'tiong bahru station'\n",
            " 'kebun bahru' 'keat hong' 'jurong west central' 'clementi central'\n",
            " 'north coast' 'braddell' 'tampines east' 'woodlands west' 'rivervale'\n",
            " 'anchorvale' 'balestier' 'hong kah' 'simei' 'geylang bahru' 'midview'\n",
            " 'sembawang central' 'macpherson' 'lorong ah soo' 'pasir ris central'\n",
            " 'cheng san' 'mei chin' 'bendemeer' 'choa chu kang north'\n",
            " 'choa chu kang central' 'boon lay place' 'margaret drive' 'woodgrove'\n",
            " 'tiong bahru' 'tampines north' 'bukit batok south' 'upper paya lebar'\n",
            " 'senja' 'teck whye' 'peng siang' 'yishun west' 'bishan east'\n",
            " 'lorong 8 toa payoh' 'toa payoh west' 'hougang west' 'serangoon central'\n",
            " 'compassvale' 'chinatown' 'kembangan' 'admiralty' 'bangkit'\n",
            " 'serangoon north' 'khatib' 'lower seletar' 'kangkar' 'yew tee'\n",
            " 'teban gardens' 'hougang east' 'pei chun' 'bukit ho swee' 'yunnan'\n",
            " 'yuhua east' 'kaki bukit' 'taman jurong' 'gombak' 'redhill'\n",
            " 'upper thomson' 'kim keat' 'clementi west' 'jelebu' 'serangoon garden'\n",
            " 'yuhua west' 'clementi woods' 'bukit batok east' 'kampong tiong bahru'\n",
            " 'aljunied' 'bedok reservoir' 'tai seng' 'boon keng' 'marine parade'\n",
            " 'joo seng' 'alexandra hill' 'depot road' 'guilin' 'bedok south'\n",
            " 'northland' 'tanglin halt' 'brickworks' 'shangri-la' 'telok blangah way'\n",
            " 'ang mo kio town centre' 'anak bukit' 'telok blangah rise' 'toh guan'\n",
            " 'pasir ris west' 'sembawang north' 'lavender' 'yio chu kang west'\n",
            " 'henderson hill' 'townsville' 'bukit batok west' 'geylang east'\n",
            " 'tanjong rhu' 'wenya' 'holland drive' 'commonwealth' 'sennett' 'victoria'\n",
            " 'crawford' \"pearl's hill\" 'farrer court' 'everton park' 'tyersall'\n",
            " 'sunset way' 'farrer park' 'coronation road' 'kampong java' 'kovan'\n",
            " 'swiss club' 'sungei road' 'hougang central' 'bugis' 'changi point'\n",
            " 'kampong bugis' 'bukit merah' 'little india' 'bencoolen' 'ulu pandan'\n",
            " 'moulmein' 'northshore' 'china square' 'yishun central']\n"
          ]
        }
      ],
      "source": [
        "# Clean up subzone names by removing whitespace\n",
        "train_df['subzone'] = train_df['subzone'].str.strip()\n",
        "print(train_df['subzone'].unique())\n",
        "\n",
        "# Create resale_price_per_sqm feature\n",
        "train_df['resale_price_per_sqm'] = train_df['resale_price'] / train_df['floor_area_sqm']\n",
        "\n",
        "# Remove hyphens in flat types for consistency and lower capitalization\n",
        "train_df['flat_type'] = train_df['flat_type'].str.replace('-', ' ')\n",
        "train_df['flat_type'] = train_df['flat_type'].str.lower()"
      ]
    },
    {
      "cell_type": "code",
      "execution_count": 17,
      "metadata": {},
      "outputs": [
        {
          "data": {
            "image/png": "[encoded data removed]",
            "text/plain": [
              "<Figure size 1000x600 with 1 Axes>"
            ]
          },
          "metadata": {},
          "output_type": "display_data"
        },
        {
          "name": "stdout",
          "output_type": "stream",
          "text": [
            "flat_type\n",
            "1 room              208739.578947\n",
            "2 room              294752.512957\n",
            "3 room              367421.169600\n",
            "4 room              521896.382574\n",
            "5 room              616811.113494\n",
            "executive           723978.701265\n",
            "multi generation    861066.941176\n",
            "Name: resale_price, dtype: float64\n"
          ]
        }
      ],
      "source": [
        "# Plot resale price vs flat type\n",
        "plt.figure(figsize=(10, 6))\n",
        "sns.boxplot(x='flat_type', y='resale_price', data=train_df)\n",
        "plt.title('Resale Price vs Flat Type')\n",
        "plt.xlabel('Flat Type')\n",
        "plt.ylabel('Resale Price')\n",
        "plt.xticks(rotation=45)\n",
        "plt.show()\n",
        "\n",
        "# print mean of resale prices for each flat type\n",
        "flat_type_means = train_df.groupby('flat_type')['resale_price'].mean().sort_values()\n",
        "print(flat_type_means)"
      ]
    },
    {
      "cell_type": "code",
      "execution_count": 18,
      "metadata": {},
      "outputs": [],
      "source": [
        "# Based on boxplot, we will assign numerical values to flat types\n",
        "flat_type_mapping = {\n",
        "    '1 room': 1,\n",
        "    '2 room': 2,\n",
        "    '3 room': 3,\n",
        "    '4 room': 4,\n",
        "    '5 room': 5,\n",
        "    'executive': 6,\n",
        "    'multi generation': 7\n",
        "}\n",
        "train_df['flat_type_num'] = train_df['flat_type'].map(flat_type_mapping)"
      ]
    },
    {
      "cell_type": "code",
      "execution_count": 19,
      "metadata": {},
      "outputs": [
        {
          "name": "stdout",
          "output_type": "stream",
          "text": [
            "2 room: 349346.42\n",
            "new generation: 379885.56\n",
            "simplified: 400799.18\n",
            "model a2: 414352.15\n",
            "standard: 440994.90\n",
            "model a: 510538.22\n",
            "improved: 528159.89\n",
            "premium apartment: 559151.36\n",
            "apartment: 708902.73\n",
            "3gen: 727848.20\n",
            "improved maisonette: 759984.00\n",
            "adjoined flat: 766747.53\n",
            "maisonette: 769759.90\n",
            "model a maisonette: 786991.23\n",
            "dbss: 788315.92\n",
            "premium maisonette: 795153.85\n",
            "multi generation: 861066.94\n",
            "terrace: 874700.61\n",
            "premium apartment loft: 997330.40\n",
            "type s1: 1050474.03\n",
            "type s2: 1152880.55\n"
          ]
        }
      ],
      "source": [
        "# print mean of resale prices for each flat model\n",
        "flat_model_means = train_df.groupby('flat_model')['resale_price'].mean().sort_values()\n",
        "for model, mean_price in flat_model_means.items():\n",
        "    print(f\"{model}: {mean_price:.2f}\")"
      ]
    },
    {
      "cell_type": "code",
      "execution_count": 20,
      "metadata": {},
      "outputs": [
        {
          "data": {
            "image/png": "[encoded data removed]",
            "text/plain": [
              "<Figure size 1200x800 with 1 Axes>"
            ]
          },
          "metadata": {},
          "output_type": "display_data"
        }
      ],
      "source": [
        "# Plot resale price vs flat model by boxplot, in ascending order of mean resale price\n",
        "plt.figure(figsize=(12, 8))\n",
        "order = flat_model_means.index.tolist()\n",
        "sns.boxplot(x='flat_model', y='resale_price', data=train_df, order=order)\n",
        "plt.title('Resale Price vs Flat Model')\n",
        "plt.xlabel('Flat Model')\n",
        "plt.ylabel('Resale Price')\n",
        "plt.xticks(rotation=90, fontsize=8)\n",
        "plt.show()\n",
        "\n"
      ]
    },
    {
      "cell_type": "code",
      "execution_count": 21,
      "metadata": {},
      "outputs": [],
      "source": [
        "# Based on boxplot, we will assign numerical values to flat models\n",
        "flat_model_mapping = {\n",
        "    '2 room': 1,\n",
        "    'new generation': 2,\n",
        "    'simplified': 3,\n",
        "    'model a2': 4,\n",
        "    'standard': 5,\n",
        "    'model a': 6,\n",
        "    'improved': 7,\n",
        "    'premium apartment': 8,\n",
        "    'apartment': 9,\n",
        "    '3gen': 10,\n",
        "    'improved maisonette': 11,\n",
        "    'adjoined flat': 12,\n",
        "    'maisonette': 13,\n",
        "    'model a maisonette': 14,\n",
        "    'dbss': 15,\n",
        "    'premium maisonette': 16,\n",
        "    'multi generation': 17,\n",
        "    'terrace': 18,\n",
        "    'premium apartment loft': 19,\n",
        "    'type s1': 20,\n",
        "    'type s2': 21\n",
        "}\n",
        "train_df['flat_model_num'] = train_df['flat_model'].map(flat_model_mapping)"
      ]
    },
    {
      "cell_type": "code",
      "execution_count": 22,
      "metadata": {},
      "outputs": [],
      "source": [
        "# change mrt_status to binary feature: 1 if 'open', 0 otherwise\n",
        "train_df['mrt_status'] = train_df['mrt_status'].apply(lambda x: 1 if x == 'open' else 0)\n",
        "\n",
        "# Modify distance features\n",
        "distance_features = ['mrt_distance', 'mall_distance', 'primary_school_distance', 'secondary_school_distance', 'hawker_distance']\n",
        "# change distance_features to inverse distance to give higher weight to nearer amenities\n",
        "for feature in distance_features:\n",
        "    train_df[feature] = 1/(train_df[feature] + 1) # add 1 to avoid division by zero"
      ]
    },
    {
      "cell_type": "code",
      "execution_count": 23,
      "metadata": {},
      "outputs": [
        {
          "name": "stdout",
          "output_type": "stream",
          "text": [
            "town                         0\n",
            "flat_type                    0\n",
            "block                        0\n",
            "street                       0\n",
            "floor_area_sqm               0\n",
            "flat_model                   0\n",
            "lease_commence_data          0\n",
            "resale_price                 0\n",
            "postal_code                  0\n",
            "latitude                     0\n",
            "longitude                    0\n",
            "max_floor                    0\n",
            "subzone                      0\n",
            "height                       0\n",
            "month_from2017               0\n",
            "age_at_sale                  0\n",
            "index                        0\n",
            "nearest_mrt                  0\n",
            "mrt_distance                 0\n",
            "mrt_status                   0\n",
            "nearest_primary_school       0\n",
            "primary_school_distance      0\n",
            "nearest_secondary_school     0\n",
            "secondary_school_distance    0\n",
            "nearest_mall                 0\n",
            "mall_distance                0\n",
            "nearest_hawker               0\n",
            "hawker_distance              0\n",
            "resale_price_per_sqm         0\n",
            "flat_type_num                0\n",
            "flat_model_num               0\n",
            "dtype: int64\n"
          ]
        }
      ],
      "source": [
        "# check no na or missing values after preprocessing\n",
        "print(train_df.isna().sum())"
      ]
    },
    {
      "cell_type": "code",
      "execution_count": 24,
      "metadata": {},
      "outputs": [
        {
          "name": "stdout",
          "output_type": "stream",
          "text": [
            "<class 'pandas.core.frame.DataFrame'>\n",
            "RangeIndex: 162691 entries, 0 to 162690\n",
            "Data columns (total 31 columns):\n",
            " #   Column                     Non-Null Count   Dtype  \n",
            "---  ------                     --------------   -----  \n",
            " 0   town                       162691 non-null  object \n",
            " 1   flat_type                  162691 non-null  object \n",
            " 2   block                      162691 non-null  object \n",
            " 3   street                     162691 non-null  object \n",
            " 4   floor_area_sqm             162691 non-null  float64\n",
            " 5   flat_model                 162691 non-null  object \n",
            " 6   lease_commence_data        162691 non-null  int64  \n",
            " 7   resale_price               162691 non-null  float64\n",
            " 8   postal_code                162691 non-null  object \n",
            " 9   latitude                   162691 non-null  float64\n",
            " 10  longitude                  162691 non-null  float64\n",
            " 11  max_floor                  162691 non-null  int64  \n",
            " 12  subzone                    162691 non-null  object \n",
            " 13  height                     162691 non-null  int64  \n",
            " 14  month_from2017             162691 non-null  int32  \n",
            " 15  age_at_sale                162691 non-null  int64  \n",
            " 16  index                      162691 non-null  float64\n",
            " 17  nearest_mrt                162691 non-null  object \n",
            " 18  mrt_distance               162691 non-null  float64\n",
            " 19  mrt_status                 162691 non-null  int64  \n",
            " 20  nearest_primary_school     162691 non-null  object \n",
            " 21  primary_school_distance    162691 non-null  float64\n",
            " 22  nearest_secondary_school   162691 non-null  object \n",
            " 23  secondary_school_distance  162691 non-null  float64\n",
            " 24  nearest_mall               162691 non-null  object \n",
            " 25  mall_distance              162691 non-null  float64\n",
            " 26  nearest_hawker             162691 non-null  object \n",
            " 27  hawker_distance            162691 non-null  float64\n",
            " 28  resale_price_per_sqm       162691 non-null  float64\n",
            " 29  flat_type_num              162691 non-null  int64  \n",
            " 30  flat_model_num             162691 non-null  int64  \n",
            "dtypes: float64(11), int32(1), int64(7), object(12)\n",
            "memory usage: 37.9+ MB\n",
            "None\n"
          ]
        }
      ],
      "source": [
        "print(train_df.info())\n",
        "# save cleaned train_df to csv\n",
        "train_df.to_csv('../data/cleaned_train_with_amenities.csv', index=False)"
      ]
    },
    {
      "cell_type": "markdown",
      "metadata": {},
      "source": []
    }
  ],
  "metadata": {
    "accelerator": "GPU",
    "colab": {
      "gpuType": "T4",
      "provenance": []
    },
    "kernelspec": {
      "display_name": "base",
      "language": "python",
      "name": "python3"
    },
    "language_info": {
      "codemirror_mode": {
        "name": "ipython",
        "version": 3
      },
      "file_extension": ".py",
      "mimetype": "text/x-python",
      "name": "python",
      "nbconvert_exporter": "python",
      "pygments_lexer": "ipython3",
      "version": "3.12.9"
    }
  },
  "nbformat": 4,
  "nbformat_minor": 0
}
