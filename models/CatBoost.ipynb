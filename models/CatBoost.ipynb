{
  "cells": [
    {
      "cell_type": "code",
      "execution_count": 1,
      "metadata": {
        "id": "kMCh2UTGt04S"
      },
      "outputs": [],
      "source": [
        "# Imports\n",
        "import pandas as pd\n",
        "import numpy as np\n",
        "from sklearn.preprocessing import MinMaxScaler, StandardScaler\n",
        "from sklearn.neighbors import KNeighborsRegressor\n",
        "from sklearn.linear_model import Ridge\n",
        "from sklearn.tree import DecisionTreeRegressor\n",
        "from sklearn.metrics import mean_squared_error\n",
        "from sklearn.model_selection import train_test_split\n",
        "import matplotlib.pyplot as plt\n",
        "import seaborn as sns"
      ]
    },
    {
      "cell_type": "code",
      "execution_count": 39,
      "metadata": {},
      "outputs": [
        {
          "name": "stdout",
          "output_type": "stream",
          "text": [
            "<class 'pandas.core.frame.DataFrame'>\n",
            "RangeIndex: 162691 entries, 0 to 162690\n",
            "Data columns (total 31 columns):\n",
            " #   Column                     Non-Null Count   Dtype  \n",
            "---  ------                     --------------   -----  \n",
            " 0   town                       162691 non-null  object \n",
            " 1   flat_type                  162691 non-null  object \n",
            " 2   block                      162691 non-null  object \n",
            " 3   street                     162691 non-null  object \n",
            " 4   floor_area_sqm             162691 non-null  float64\n",
            " 5   flat_model                 162691 non-null  object \n",
            " 6   lease_commence_data        162691 non-null  int64  \n",
            " 7   resale_price               162691 non-null  float64\n",
            " 8   postal_code                162691 non-null  object \n",
            " 9   latitude                   162691 non-null  float64\n",
            " 10  longitude                  162691 non-null  float64\n",
            " 11  max_floor                  162691 non-null  int64  \n",
            " 12  subzone                    162691 non-null  object \n",
            " 13  height                     162691 non-null  int64  \n",
            " 14  month_from2017             162691 non-null  int64  \n",
            " 15  age_at_sale                162691 non-null  int64  \n",
            " 16  index                      162691 non-null  float64\n",
            " 17  nearest_mrt                162691 non-null  object \n",
            " 18  mrt_distance               162691 non-null  float64\n",
            " 19  mrt_status                 162691 non-null  int64  \n",
            " 20  nearest_primary_school     162691 non-null  object \n",
            " 21  primary_school_distance    162691 non-null  float64\n",
            " 22  nearest_secondary_school   162691 non-null  object \n",
            " 23  secondary_school_distance  162691 non-null  float64\n",
            " 24  nearest_mall               162691 non-null  object \n",
            " 25  mall_distance              162691 non-null  float64\n",
            " 26  nearest_hawker             162691 non-null  object \n",
            " 27  hawker_distance            162691 non-null  float64\n",
            " 28  resale_price_per_sqm       162691 non-null  float64\n",
            " 29  flat_type_num              162691 non-null  int64  \n",
            " 30  flat_model_num             162691 non-null  int64  \n",
            "dtypes: float64(11), int64(8), object(12)\n",
            "memory usage: 38.5+ MB\n",
            "None\n"
          ]
        }
      ],
      "source": [
        "train_df = pd.read_csv('../data/cleaned_train_with_amenities.csv', dtype={'postal_code': str})\n",
        "print(train_df.info())"
      ]
    },
    {
      "cell_type": "code",
      "execution_count": null,
      "metadata": {},
      "outputs": [],
      "source": [
        "# Remove outliers based on floor_area_sqm more than 200 sqm\n",
        "train_df = train_df[train_df['floor_area_sqm'] <= 200]\n",
        "selected_numeric_features = ['resale_price', 'floor_area_sqm', 'max_floor', 'height', 'index', 'mrt_status','age_at_sale','flat_type_num', 'flat_model_num','longitude','latitude']\n",
        "distance_features = ['mrt_distance', 'mall_distance', 'primary_school_distance', 'secondary_school_distance', 'hawker_distance']\n",
        "selected_numeric_features += distance_features"
      ]
    },
    {
      "cell_type": "code",
      "execution_count": 42,
      "metadata": {},
      "outputs": [
        {
          "name": "stdout",
          "output_type": "stream",
          "text": [
            "cat_features_indices used for CatBoost: [13, 14]\n",
            "Validation RMSE: 26744.63\n",
            "Validation RMSE: 26744.63\n"
          ]
        }
      ],
      "source": [
        "# Select features for model\n",
        "selected_categorical_features = ['subzone','flat_model']\n",
        "target_variable = 'resale_price'\n",
        "train_df = train_df[selected_numeric_features + selected_categorical_features]\n",
        "# Split the data into training and validation sets (80% train, 20% val) using random sampling\n",
        "training_set, validation_set = train_test_split(train_df, test_size=0.2, random_state=42)\n",
        "# separate features and target variable\n",
        "X_train = training_set.drop(columns=[target_variable])\n",
        "y_train = training_set[target_variable]\n",
        "X_val = validation_set.drop(columns=[target_variable])\n",
        "y_val = validation_set[target_variable]\n",
        "# Ensure categorical columns have appropriate dtype\n",
        "for col in selected_categorical_features:\n",
        "    if col in X_train.columns:\n",
        "        X_train[col] = X_train[col].astype('category')\n",
        "    if col in X_val.columns:\n",
        "        X_val[col] = X_val[col].astype('category')\n",
        "# Use CatBoost Regressor\n",
        "from catboost import CatBoostRegressor\n",
        "# Compute categorical feature indices from X_train (safer than using train_df)\n",
        "cat_features_indices = [X_train.columns.get_loc(col) for col in selected_categorical_features if col in X_train.columns]\n",
        "print('cat_features_indices used for CatBoost:', cat_features_indices)\n",
        "model = CatBoostRegressor(iterations=1000, learning_rate=0.1, depth=6, eval_metric='RMSE', random_seed=42, logging_level='Silent')\n",
        "model.fit(X_train, y_train, cat_features=cat_features_indices, eval_set=(X_val, y_val), use_best_model=True)\n",
        "# Make predictions on validation set\n",
        "y_val_pred = model.predict(X_val)\n",
        "# Calculate RMSE (works with older scikit-learn versions that don't accept `squared` keyword)\n",
        "mse = mean_squared_error(y_val, y_val_pred)\n",
        "rmse = np.sqrt(mse)\n",
        "print(f\"Validation RMSE: {rmse:.2f}\")"
      ]
    }
  ],
  "metadata": {
    "accelerator": "GPU",
    "colab": {
      "gpuType": "T4",
      "provenance": []
    },
    "kernelspec": {
      "display_name": "base",
      "language": "python",
      "name": "python3"
    },
    "language_info": {
      "codemirror_mode": {
        "name": "ipython",
        "version": 3
      },
      "file_extension": ".py",
      "mimetype": "text/x-python",
      "name": "python",
      "nbconvert_exporter": "python",
      "pygments_lexer": "ipython3",
      "version": "3.12.9"
    }
  },
  "nbformat": 4,
  "nbformat_minor": 0
}
